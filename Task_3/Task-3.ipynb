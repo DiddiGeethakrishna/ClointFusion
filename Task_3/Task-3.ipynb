{
 "metadata": {
  "language_info": {
   "codemirror_mode": {
    "name": "ipython",
    "version": 3
   },
   "file_extension": ".py",
   "mimetype": "text/x-python",
   "name": "python",
   "nbconvert_exporter": "python",
   "pygments_lexer": "ipython3",
   "version": "3.9.1-final"
  },
  "orig_nbformat": 2,
  "kernelspec": {
   "name": "python3",
   "display_name": "Python 3.9.1 64-bit",
   "metadata": {
    "interpreter": {
     "hash": "98a9ed9de3c4aa286728019113df9aaeab37491c3956ecf03ac7a30f85bbb990"
    }
   }
  }
 },
 "nbformat": 4,
 "nbformat_minor": 2,
 "cells": [
  {
   "cell_type": "code",
   "execution_count": 2,
   "metadata": {},
   "outputs": [
    {
     "output_type": "stream",
     "name": "stdout",
     "text": [
      "Welcome to ClointFusion, Made in India with ❤️ .Version: 0.0.98\n",
      "Semi Automatic Mode is DISABLED 👍️\n"
     ]
    }
   ],
   "source": [
    "import ClointFusion as cf\n",
    "cf.OFF_semi_automatic_mode()"
   ]
  },
  {
   "cell_type": "code",
   "execution_count": 2,
   "metadata": {},
   "outputs": [
    {
     "output_type": "execute_result",
     "data": {
      "text/plain": [
       "True"
      ]
     },
     "metadata": {},
     "execution_count": 2
    }
   ],
   "source": [
    "#1 Open provided excel and filter the Central Rows from the Region column\n",
    "\n",
    "cf.launch_any_exe_bat_application(\"D:\\ClointFusion\\Task_3\\Excel.xlsx\")\n",
    "cf.excel_sort_columns(excel_path=r\"D:\\ClointFusion\\Task_3\\Excel.xlsx\",firstColumnSortType=\"Region\")"
   ]
  },
  {
   "cell_type": "code",
   "execution_count": 3,
   "metadata": {},
   "outputs": [
    {
     "output_type": "execute_result",
     "data": {
      "text/plain": [
       "True"
      ]
     },
     "metadata": {},
     "execution_count": 3
    }
   ],
   "source": [
    "# And Copy & paste it into new sheet\n",
    "\n",
    "cf.excel_create_excel_file_in_given_folder('D:\\ClointFusion\\Task_3',excelFileName=\"Excel_new\")\n",
    "cf.excel_split_the_file_on_row_count(excel_path='D:\\ClointFusion\\Task_3\\Excel.xlsx',sheet_name='Sheet1', rowSplitLimit=24, outputFolderPath='D:\\ClointFusion\\Task_3')\n",
    "cf.key_press(\"ctrl + s\")"
   ]
  },
  {
   "cell_type": "code",
   "execution_count": 4,
   "metadata": {},
   "outputs": [],
   "source": [
    "# And Copy & paste it into new sheet\n",
    "\n",
    "cf.launch_any_exe_bat_application(\"D:\\ClointFusion\\Task_3\\Split-1.xlsx\")\n",
    "cf.key_press(\"ctrl+a\")\n",
    "cf.key_press(\"ctrl+c\")\n",
    "cf.launch_any_exe_bat_application(\"D:\\ClointFusion\\Task_3\\Excel_new.xlsx\")\n",
    "cf.key_press(\"ctrl+v\")\n",
    "cf.key_press(\"ctrl + s\")"
   ]
  },
  {
   "cell_type": "code",
   "execution_count": null,
   "metadata": {},
   "outputs": [],
   "source": [
    "#2 Now sort it with respect to total use ascending to descending order\n",
    "\n",
    "cf.excel_sort_columns(excel_path=r\"D:\\ClointFusion\\Task_3\\Excel_new.xlsx\",firstColumnSortType=\"Total\") cf.key_press(\"ctrl + s\")"
   ]
  },
  {
   "cell_type": "code",
   "execution_count": null,
   "metadata": {},
   "outputs": [],
   "source": [
    "#3 Go the conditional formatting Go to colour scale Select green yellow red scale (first from the top)    in the total column\n",
    "\n",
    "cf.launch_any_exe_bat_application(\"D:\\ClointFusion\\Task_3\\Excel_new.xlsx\") \n",
    "cf.key_press('ctrl + home') \n",
    "cf.key_press('ctrl + shift + right') \n",
    "cf.key_press('alt + h + fc')\n",
    "cf.key_press('down') \n",
    "cf.key_press('down') \n",
    "cf.key_press('down') \n",
    "cf.key_press('down')\n",
    "cf.key_press('down') \n",
    "cf.key_press('down') \n",
    "cf.key_press('right') \n",
    "cf.key_hit_enter()\n",
    "\n",
    "cf.key_press('ctrl + home')\n",
    "cf.key_press('ctrl + shift + right')\n",
    "cf.key_press('alt + h + l')\n",
    "cf.key_press('right') \n",
    "cf.key_hit_enter()\n",
    "\n",
    "cf.key_press('ctrl + home') \n",
    "cf.key_press('right') \n",
    "cf.key_press('right') \n",
    "cf.key_press('right') \n",
    "cf.key_press('right') \n",
    "cf.key_press('right') \n",
    "cf.key_press('right') \n",
    "cf.key_press('ctrl + shift + down') \n",
    "cf.key_press('alt + h + l + s') \n",
    "cf.key_press('down') \n",
    "cf.key_press('down') \n",
    "cf.key_press('down') \n",
    "cf.key_press('right') \n",
    "cf.key_hit_enter() \n",
    "cf.key_press('ctrl + s')\n",
    "\n",
    "#4 Border the table\n",
    "\n",
    "cf.key_press('alt + h + b + a + enter') \n",
    "cf.key_press('ctrl + s')"
   ]
  },
  {
   "cell_type": "code",
   "execution_count": 8,
   "metadata": {},
   "outputs": [],
   "source": [
    "#5 Now open outlook via Browser\n",
    "\n",
    "username = cf.gui_get_any_input_from_user(\"outlook Username/Login\") #GUI pop-up window \n",
    "password = cf.gui_get_any_input_from_user(\"your outlook Password\") #GUI pop-up window\n",
    "cf.browser_navigate_h(\"outlook.live.com/mail/0/inbox\")\n",
    "cf.browser_mouse_click_h(\"Sign in\")\n",
    "cf.browser_write_h(username,\"email\") \n",
    "cf.browser_mouse_click_h(\"next\")\n",
    "cf.browser_write_h(password,\"password\") \n",
    "cf.browser_mouse_click_h(\"Sign in\")\n",
    "\n",
    "#6 Compose mail using XPATH\n",
    "\n",
    "#7 Giving all Details\n",
    "\n",
    "newmsg=cf.browser_locate_element_h('//*[@id=\"id__6\"]')\n",
    "cf.browser_mouse_click_h(newmsg)\n",
    "cf.browser_wait_until_h(\"To\")\n",
    "cf.browser_write_h(\"fharookshaik.clointfusion@gmail.com\",User_Visible_Text_Element=\"To\") #to mail\n",
    "cf.key_press('tab') \n",
    "cf.key_hit_enter() \n",
    "\n",
    "cf.key_press('tab') \n",
    "\n",
    "cf.key_hit_enter() \n",
    "\n",
    "cf.browser_write_h(\"avinash.clointfusion@gmail.com\",User_Visible_Text_Element=\"Cc\") #cc mail\n",
    "\n",
    "cf.key_hit_enter() \n",
    "\n",
    "cf.key_press('tab') \n",
    "\n",
    "cf.key_write_enter(\"Task 4 Automation Test\") #subject\n",
    "\n",
    "cf.key_press('tab') \n",
    "\n",
    "cf.key_write_enter(\"This is a mail sent by a bot made of ClointFusion with a dummy information.Table Deails:\") #body\n",
    "\n",
    "cf.key_hit_enter()\n",
    "\n",
    "#8 Copy that table and paste it in outlook\n",
    "cf.launch_any_exe_bat_application(\"D:\\ClointFusion\\Task_3\\Excel_new.xlsx\")\n",
    "cf.key_press(\"ctrl+a\")\n",
    "cf.key_press(\"ctrl+c\")\n",
    "\n",
    "cf.window_close_windows(\"Excel\")\n",
    "cf.key_hit_enter()\n",
    "\n",
    "cf.key_hit_enter()\n",
    "\n",
    "cf.key_press(\"ctrl+v\")\n",
    "cf.key_hit_enter()\n",
    "\n",
    "\n",
    "\n",
    "#9 Signature\n",
    "cf.key_write_enter(\"Thanks & Regards\")\n",
    "cf.key_write_enter(\"D.Geethakrishna.\")\n",
    "\n",
    "#10 Add Attachment & send mail\n",
    "cf.browser_mouse_click_h(\"Attach\")\n",
    "cf.key_press('down') \n",
    "cf.key_hit_enter()\n",
    "cf.key_write_enter('D:\\ClointFusion\\Task_3\\Excel_new.xlsx')\n",
    "cf.key_hit_enter()\n",
    "\n",
    "\n",
    "cf.key_press(\"ctrl+enter\")\n"
   ]
  },
  {
   "cell_type": "code",
   "execution_count": null,
   "metadata": {},
   "outputs": [],
   "source": []
  }
 ]
}