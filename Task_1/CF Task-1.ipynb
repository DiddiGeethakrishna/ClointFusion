{
 "metadata": {
  "language_info": {
   "codemirror_mode": {
    "name": "ipython",
    "version": 3
   },
   "file_extension": ".py",
   "mimetype": "text/x-python",
   "name": "python",
   "nbconvert_exporter": "python",
   "pygments_lexer": "ipython3",
   "version": "3.9.1-final"
  },
  "orig_nbformat": 2,
  "kernelspec": {
   "name": "python3",
   "display_name": "Python 3.9.1 64-bit",
   "metadata": {
    "interpreter": {
     "hash": "98a9ed9de3c4aa286728019113df9aaeab37491c3956ecf03ac7a30f85bbb990"
    }
   }
  }
 },
 "nbformat": 4,
 "nbformat_minor": 2,
 "cells": [
  {
   "cell_type": "code",
   "execution_count": 30,
   "metadata": {},
   "outputs": [
    {
     "output_type": "stream",
     "name": "stdout",
     "text": [
      "Semi Automatic Mode is DISABLED 👍️\n"
     ]
    }
   ],
   "source": [
    "import ClointFusion as cf \n",
    " \n",
    "cf.OFF_semi_automatic_mode()\n",
    "\n"
   ]
  },
  {
   "cell_type": "code",
   "execution_count": 31,
   "metadata": {},
   "outputs": [
    {
     "output_type": "execute_result",
     "data": {
      "text/plain": [
       "['ID ', 'OrderDate', 'Region', 'Rep', 'Item', 'Units', 'UnitCost', 'Total']"
      ]
     },
     "metadata": {},
     "execution_count": 31
    }
   ],
   "source": [
    "#1 get all header columns\n",
    "cf.excel_get_all_header_columns('D:\\Test\\Test.xlsx')"
   ]
  },
  {
   "cell_type": "code",
   "execution_count": 32,
   "metadata": {},
   "outputs": [
    {
     "output_type": "execute_result",
     "data": {
      "text/plain": [
       "(44, 8)"
      ]
     },
     "metadata": {},
     "execution_count": 32
    }
   ],
   "source": [
    "#2 get row and column count\n",
    "cf.excel_get_row_column_count()"
   ]
  },
  {
   "cell_type": "code",
   "execution_count": 33,
   "metadata": {},
   "outputs": [
    {
     "output_type": "execute_result",
     "data": {
      "text/plain": [
       "['Sheet1']"
      ]
     },
     "metadata": {},
     "execution_count": 33
    }
   ],
   "source": [
    "#3 get all sheet names in excel.xlsx\n",
    "cf.excel_get_all_sheet_names('D:\\Test\\Test.xlsx')\n"
   ]
  },
  {
   "cell_type": "code",
   "execution_count": 34,
   "metadata": {},
   "outputs": [
    {
     "output_type": "execute_result",
     "data": {
      "text/plain": [
       "43"
      ]
     },
     "metadata": {},
     "execution_count": 34
    }
   ],
   "source": [
    "#4 remove the duplicate data w.r.to 'ID' column\n",
    "cf.excel_remove_duplicates()"
   ]
  },
  {
   "cell_type": "code",
   "execution_count": 35,
   "metadata": {},
   "outputs": [
    {
     "output_type": "execute_result",
     "data": {
      "text/plain": [
       "True"
      ]
     },
     "metadata": {},
     "execution_count": 35
    }
   ],
   "source": [
    "#5 sort the data w.r.to 'OrderDate' column\n",
    "cf.excel_sort_columns(excel_path=r\"D:\\Test\\Test.xlsx\",firstColumnSortType=\"OrderDate\")"
   ]
  },
  {
   "cell_type": "code",
   "execution_count": 37,
   "metadata": {},
   "outputs": [
    {
     "output_type": "execute_result",
     "data": {
      "text/plain": [
       "True"
      ]
     },
     "metadata": {},
     "execution_count": 37
    }
   ],
   "source": [
    "#6 inserting given data...\n",
    "cf.excel_set_single_cell('D:\\Test\\Test.xlsx',columnName=\"ID \",cellNumber=43,setText=\"1027\")\n",
    "cf.excel_set_single_cell('D:\\Test\\Test.xlsx',columnName=\"OrderDate\",cellNumber=43,setText=\"4/14/2020\")\n",
    "cf.excel_set_single_cell('D:\\Test\\Test.xlsx',columnName=\"Region\",cellNumber=43,setText=\"East\")\n",
    "cf.excel_set_single_cell('D:\\Test\\Test.xlsx',columnName=\"Rep\",cellNumber=43,setText=\"Jones\")\n",
    "cf.excel_set_single_cell('D:\\Test\\Test.xlsx',columnName=\"Item\",cellNumber=43,setText=\"Binder\")\n",
    "cf.excel_set_single_cell('D:\\Test\\Test.xlsx',columnName=\"Units\",cellNumber=43,setText=\"60\")\n",
    "cf.excel_set_single_cell('D:\\Test\\Test.xlsx',columnName=\"UnitCost\",cellNumber=43,setText=\"4.99\")\n",
    "cf.excel_set_single_cell('D:\\Test\\Test.xlsx',columnName=\"Total\",cellNumber=43,setText=\"449.1\")"
   ]
  },
  {
   "cell_type": "code",
   "execution_count": 70,
   "metadata": {},
   "outputs": [
    {
     "output_type": "execute_result",
     "data": {
      "text/plain": [
       "True"
      ]
     },
     "metadata": {},
     "execution_count": 70
    }
   ],
   "source": [
    "#7 \n",
    "cf.excel_create_excel_file_in_given_folder(\"D:\\split\",excelFileName=\"Split\")\n"
   ]
  },
  {
   "cell_type": "code",
   "execution_count": 74,
   "metadata": {},
   "outputs": [
    {
     "output_type": "execute_result",
     "data": {
      "text/plain": [
       "True"
      ]
     },
     "metadata": {},
     "execution_count": 74
    }
   ],
   "source": [
    "#7 \n",
    "cf.excel_split_the_file_on_row_count(excel_path='D:\\Test\\Test.xlsx',sheet_name='Sheet1', rowSplitLimit=12, outputFolderPath=\"D:\\Test\")"
   ]
  },
  {
   "cell_type": "code",
   "execution_count": 80,
   "metadata": {},
   "outputs": [
    {
     "output_type": "stream",
     "name": "stdout",
     "text": [
      "{1001: 95, 1002: 50, 1003: 36, 1004: 27, 1005: 56, 1006: 60, 1007: 75, 1008: 90, 1009: 32, 1010: 60, 1011: 90, 1012: 29, 1013: 81, 1014: 35, 1015: 2, 1016: 16, 1017: 28, 1018: 64, 1019: 15, 1020: 96, 1021: 67, 1022: 74, 1023: 46, 1024: 87, 1025: 4, 1026: 7, 1027: 60, 1028: 66, 1029: 96, 1030: 53, 1031: 80, 1032: 5, 1033: 62, 1034: 55, 1035: 42, 1036: 3, 1037: 7, 1038: 76, 1039: 57, 1040: 14, 1041: 11, 1042: 94, 1043: 28}\n"
     ]
    }
   ],
   "source": [
    "#python directory\n",
    "data={}\n",
    "row,column = cf.excel_get_row_column_count(excel_path='D:\\Test\\Test.xlsx',sheet_name='Sheet1')\n",
    "\n",
    "for i in range(row-1): \n",
    "    key = cf.excel_get_single_cell(excel_path='D:\\Test\\Test.xlsx',sheet_name='Sheet1',header=0,columnName='ID ',cellNumber=i) \n",
    "    value = cf.excel_get_single_cell(excel_path='D:\\Test\\Test.xlsx',sheet_name='Sheet1',columnName='Units',cellNumber=i) \n",
    "    data[key] = value\n",
    "print(data)\n"
   ]
  },
  {
   "cell_type": "code",
   "execution_count": null,
   "metadata": {},
   "outputs": [],
   "source": []
  }
 ]
}