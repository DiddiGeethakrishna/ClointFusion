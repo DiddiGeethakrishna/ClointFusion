{
 "metadata": {
  "language_info": {
   "codemirror_mode": {
    "name": "ipython",
    "version": 3
   },
   "file_extension": ".py",
   "mimetype": "text/x-python",
   "name": "python",
   "nbconvert_exporter": "python",
   "pygments_lexer": "ipython3",
   "version": "3.9.1-final"
  },
  "orig_nbformat": 2,
  "kernelspec": {
   "name": "python3",
   "display_name": "Python 3.9.1 64-bit",
   "metadata": {
    "interpreter": {
     "hash": "98a9ed9de3c4aa286728019113df9aaeab37491c3956ecf03ac7a30f85bbb990"
    }
   }
  }
 },
 "nbformat": 4,
 "nbformat_minor": 2,
 "cells": [
  {
   "cell_type": "code",
   "execution_count": 1,
   "metadata": {},
   "outputs": [
    {
     "output_type": "stream",
     "name": "stdout",
     "text": [
      "Welcome to ClointFusion, Made in India with ❤️ .Version: 0.0.98\n",
      "Semi Automatic Mode is DISABLED 👍️\n"
     ]
    }
   ],
   "source": [
    "import ClointFusion as cf\n",
    "import os\n",
    "cf.OFF_semi_automatic_mode()"
   ]
  },
  {
   "cell_type": "code",
   "execution_count": 8,
   "metadata": {},
   "outputs": [],
   "source": [
    "\n",
    "username = cf.gui_get_any_input_from_user(\"Email Username/Login\") #GUI pop-up window \n",
    "\n",
    "password = cf.gui_get_any_input_from_user(\"your Email Password\",True) #GUI pop-up window\n",
    "\n",
    "cf.launch_website_h(\"gmail.com\")\n",
    "\n",
    "cf.browser_write_h(username,\"email\") \n",
    "\n",
    "cf.browser_mouse_click_h(\"next\") \n",
    "\n",
    "cf.browser_write_h(password,\"enter your password\") \n",
    "\n",
    "cf.browser_mouse_click_h(\"next\") \n",
    "\n",
    "cf.launch_any_exe_bat_application(\"D:\\ClointFusion\\Task_4\\Zoom meet.txt\")\n",
    "cf.window_activate_and_maximize_windows(\"notepad\")\n",
    "cf.key_press(\"ctrl+a\")\n",
    "cf.key_press(\"ctrl+c\")\n",
    "cf.key_press(\"ctrl+c\")\n",
    "cf.window_close_windows(\"notepad\")\n",
    "\n",
    "\n",
    "cf.browser_mouse_click_h('c')\n",
    "cf.browser_wait_until_h(\"To\")\n",
    "cf.browser_write_h(\"diddigeethakrishna@gmail.com\",User_Visible_Text_Element=\"To\") #to mail\n",
    "cf.key_press('tab') \n",
    "cf.key_hit_enter() \n",
    "cf.key_press('ctrl + shift + c') \n",
    "cf.browser_wait_until_h(\"Cc\")\n",
    "cf.browser_write_h(\"diddigeethakrishna@gmail.com\",User_Visible_Text_Element=\"Cc\") #cc mail\n",
    "cf.key_hit_enter() \n",
    "cf.key_press('tab') \n",
    "cf.key_write_enter(\"Hackathon 7.0\") #subject\n",
    "cf.key_press('tab') \n",
    "cf.key_write_enter(\"Hello Geethakrishna\") #body\n",
    "cf.key_press(\"ctrl + v\")\n",
    "cf.key_press(\"ctrl + enter\")\n",
    "cf.browser_wait_until_h(\"Message sent\")\n",
    "\n"
   ]
  },
  {
   "cell_type": "code",
   "execution_count": 9,
   "metadata": {},
   "outputs": [
    {
     "output_type": "error",
     "ename": "IndentationError",
     "evalue": "unindent does not match any outer indentation level (<tokenize>, line 27)",
     "traceback": [
      "\u001b[1;36m  File \u001b[1;32m\"<tokenize>\"\u001b[1;36m, line \u001b[1;32m27\u001b[0m\n\u001b[1;33m    else\u001b[0m\n\u001b[1;37m    ^\u001b[0m\n\u001b[1;31mIndentationError\u001b[0m\u001b[1;31m:\u001b[0m unindent does not match any outer indentation level\n"
     ]
    }
   ],
   "source": [
    "data={}\n",
    "row,column = cf.excel_get_row_column_count(excel_path='D:\\ClointFusion\\Task_4\\Excel.xlsx',sheet_name='Sheet1')\n",
    "\n",
    "for i in range(row-1): \n",
    "    key = cf.excel_get_single_cell(excel_path='D:\\ClointFusion\\Task_4\\Excel.xlsx',sheet_name='Sheet1',header=0,columnName='Email id',cellNumber=i) \n",
    "    value = cf.excel_get_single_cell(excel_path='D:\\ClointFusion\\Task_4\\Excel.xlsx',sheet_name='Sheet1',columnName='Name',cellNumber=i) \n",
    "    data[key] = value\n",
    "print(data)\n",
    "\n",
    "    #if (data)\n",
    "      username = cf.gui_get_any_input_from_user(\"Email Username/Login\") #GUI pop-up window \n",
    "      password = cf.gui_get_any_input_from_user(\"your Email Password\",True) #GUI pop-up window\n",
    "      cf.launch_website_h(\"gmail.com\")\n",
    "      cf.browser_write_h(username,\"email\") \n",
    "      cf.browser_mouse_click_h(\"next\") \n",
    "      cf.browser_write_h(password,\"enter your password\") \n",
    "      cf.browser_mouse_click_h(\"next\") \n",
    "      cf.browser_mouse_click_h('c')\n",
    "      cf.browser_wait_until_h(\"To\")\n",
    "      cf.browser_write_h(\"data[key]\",User_Visible_Text_Element=\"To\") #to mail\n",
    "      cf.key_press('tab') \n",
    "      cf.key_hit_enter() \n",
    "      cf.key_press('ctrl + shift + c') \n",
    "      cf.browser_wait_until_h(\"Cc\")\n",
    "      cf.browser_write_h(\"value\",User_Visible_Text_Element=\"Cc\") #cc mail\n",
    "      cf.key_hit_enter()\n",
    " \n",
    "\n",
    "\n"
   ]
  },
  {
   "cell_type": "code",
   "execution_count": null,
   "metadata": {},
   "outputs": [],
   "source": []
  }
 ]
}