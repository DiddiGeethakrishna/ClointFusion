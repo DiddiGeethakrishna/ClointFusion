{
 "metadata": {
  "language_info": {
   "codemirror_mode": {
    "name": "ipython",
    "version": 3
   },
   "file_extension": ".py",
   "mimetype": "text/x-python",
   "name": "python",
   "nbconvert_exporter": "python",
   "pygments_lexer": "ipython3",
   "version": "3.9.1-final"
  },
  "orig_nbformat": 2,
  "kernelspec": {
   "name": "python3",
   "display_name": "Python 3.9.1 64-bit",
   "metadata": {
    "interpreter": {
     "hash": "98a9ed9de3c4aa286728019113df9aaeab37491c3956ecf03ac7a30f85bbb990"
    }
   }
  }
 },
 "nbformat": 4,
 "nbformat_minor": 2,
 "cells": [
  {
   "cell_type": "code",
   "execution_count": 1,
   "metadata": {},
   "outputs": [
    {
     "output_type": "stream",
     "name": "stdout",
     "text": [
      "Welcome to ClointFusion, Made in India with ❤️\nSemi Automatic Mode is DISABLED 👍️\n"
     ]
    }
   ],
   "source": [
    "import ClointFusion as cf \n",
    "cf.OFF_semi_automatic_mode()"
   ]
  },
  {
   "cell_type": "code",
   "execution_count": 2,
   "metadata": {},
   "outputs": [],
   "source": [
    "#1 Open Firefox and open Flipkart.com\n",
    "\n",
    "cf.launch_any_exe_bat_application('firefox')\n",
    "cf.key_write_enter('www.flipkart.com')\n",
    "\n",
    "#2 Login into my Flipkart Account\n",
    " \n",
    "cf.mouse_search_snip_return_coordinates_x_y(r\"D:\\ClointFusion\\Task_2\\images\\Flipkart Login.PNG\",conf=0.8)\n",
    "cf.mouse_click(*cf.mouse_search_snip_return_coordinates_x_y(r\"D:\\ClointFusion\\Task_2\\images\\Flipkart Login.PNG\",conf=0.8))\n",
    "\n",
    "cf.key_press(\"tab\")\n",
    "cf.key_write_enter(\"dgkchinni\")\n",
    "\n",
    "#3 Now search for two headphones and add both to cart using following images\n",
    "\n",
    "cf.mouse_search_snip_return_coordinates_x_y(r\"D:\\ClointFusion\\Task_2\\images\\Search.PNG\",conf=0.8)\n",
    "cf.mouse_click(*cf.mouse_search_snip_return_coordinates_x_y(r\"D:\\ClointFusion\\Task_2\\images\\Search.PNG\",conf=0.8))\n",
    "\n",
    "#(i) Boat Airdopes 131 Bluetooth Headset\n",
    "  \n",
    "cf.key_write_enter(\"Boat Airdopes 131\")\n",
    "cf.mouse_search_snip_return_coordinates_x_y(r\"D:\\ClointFusion\\Task_2\\images\\Boat Airdopes 131.PNG\",conf=0.8)\n",
    "cf.mouse_click(*cf.mouse_search_snip_return_coordinates_x_y(r\"D:\\ClointFusion\\Task_2\\images\\Boat Airdopes 131.PNG\",conf=0.8))\n",
    "\n",
    "cf.mouse_search_snip_return_coordinates_x_y(r\"D:\\ClointFusion\\Task_2\\images\\Add to cart.PNG\",conf=0.8)\n",
    "cf.mouse_click(*cf.mouse_search_snip_return_coordinates_x_y(r\"D:\\ClointFusion\\Task_2\\images\\Add to cart.PNG\",conf=0.8))\n",
    "\n",
    "cf.mouse_search_snip_return_coordinates_x_y(r\"D:\\ClointFusion\\Task_2\\images\\Search.PNG\",conf=0.8)\n",
    "cf.mouse_click(*cf.mouse_search_snip_return_coordinates_x_y(r\"D:\\ClointFusion\\Task_2\\images\\Search.PNG\",conf=0.8))\n",
    "\n",
    "#(ii) Boat Airdopes 402 Bluetooth Headset\n",
    "\n",
    "cf.key_write_enter(\"Boat Airdopes 402\")\n",
    "cf.mouse_search_snip_return_coordinates_x_y(r\"D:\\ClointFusion\\Task_2\\images\\Boat Airdopes 402.PNG\",conf=0.8)\n",
    "cf.mouse_click(*cf.mouse_search_snip_return_coordinates_x_y(r\"D:\\ClointFusion\\Task_2\\images\\Boat Airdopes 402.PNG\",conf=0.8))\n",
    "\n",
    "cf.mouse_search_snip_return_coordinates_x_y(r\"D:\\ClointFusion\\Task_2\\images\\Add to cart.PNG\",conf=0.8)\n",
    "cf.mouse_click(*cf.mouse_search_snip_return_coordinates_x_y(r\"D:\\ClointFusion\\Task_2\\images\\Add to cart.PNG\",conf=0.8))\n",
    "\n",
    "cf.mouse_search_snip_return_coordinates_x_y(r\"D:\\ClointFusion\\Task_2\\images\\Place order.PNG\",conf=0.8)\n",
    "cf.mouse_click(*cf.mouse_search_snip_return_coordinates_x_y(r\"D:\\ClointFusion\\Task_2\\images\\Place order.PNG\",conf=0.8))\n",
    "\n",
    "#cf.key_press(\"Pg Dn\")\n",
    "cf.mouse_drag_from_to(800,800,1900,750)\n",
    "cf.mouse_click(1900,750)\n",
    "\n",
    "cf.mouse_search_snip_return_coordinates_x_y(r\"D:\\ClointFusion\\Task_2\\images\\Continue.PNG\",conf=0.8)\n",
    "cf.mouse_click(*cf.mouse_search_snip_return_coordinates_x_y(r\"D:\\ClointFusion\\Task_2\\images\\Continue.PNG\",conf=0.8))\n",
    "\n",
    "#cf.key_press(\"Pg Dn\")\n",
    "cf.mouse_drag_from_to(800,800,1900,750)\n",
    "cf.mouse_click(1900,750)\n",
    "\n",
    "cf.mouse_search_snip_return_coordinates_x_y(r\"D:\\ClointFusion\\Task_2\\images\\Cod.PNG\",conf=0.8)\n",
    "cf.mouse_click(*cf.mouse_search_snip_return_coordinates_x_y(r\"D:\\ClointFusion\\Task_2\\images\\Cod.PNG\",conf=0.8))\n",
    "\n",
    "cf.key_press(\"alt+f4\")\n",
    "\n",
    "\n",
    "\n",
    "\n",
    "\n",
    "\n",
    "\n",
    "\n",
    "\n",
    "\n",
    "\n",
    "\n",
    "\n",
    "\n",
    "\n",
    "\n",
    "\n",
    "\n",
    "\n",
    "\n",
    "\n",
    "\n",
    "\n",
    "\n",
    "\n",
    " \n",
    "\n",
    " "
   ]
  },
  {
   "cell_type": "code",
   "execution_count": null,
   "metadata": {},
   "outputs": [],
   "source": []
  }
 ]
}